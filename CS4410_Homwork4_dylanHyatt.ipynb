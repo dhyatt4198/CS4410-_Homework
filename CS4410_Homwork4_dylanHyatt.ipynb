{
  "nbformat": 4,
  "nbformat_minor": 0,
  "metadata": {
    "colab": {
      "provenance": [],
      "authorship_tag": "ABX9TyPPQgdtBZeYZ6nbFNMaNQ3h"
    },
    "kernelspec": {
      "name": "python3",
      "display_name": "Python 3"
    },
    "language_info": {
      "name": "python"
    }
  },
  "cells": [
    {
      "cell_type": "markdown",
      "source": [
        "Step 1: Loading the Dataset then Checking the Sample and Target Sizes"
      ],
      "metadata": {
        "id": "DzQew4sv1MsT"
      }
    },
    {
      "cell_type": "code",
      "source": [
        "from sklearn.datasets import load_breast_cancer\n",
        "breast_cancer = load_breast_cancer()\n",
        "\n",
        "#checking sample and target sizes\n",
        "print(\"Samples (features):\", breast_cancer.data.shape)\n",
        "print(\"Targets:\", breast_cancer.target.shape)\n",
        "print(\"Target Names:\", breast_cancer.target_names)"
      ],
      "metadata": {
        "colab": {
          "base_uri": "https://localhost:8080/"
        },
        "id": "452hc_wt3Si1",
        "outputId": "cf4d51a7-4217-40b5-b28c-624d39495654"
      },
      "execution_count": 12,
      "outputs": [
        {
          "output_type": "stream",
          "name": "stdout",
          "text": [
            "Samples (features): (569, 30)\n",
            "Targets: (569,)\n",
            "Target Names: ['malignant' 'benign']\n"
          ]
        }
      ]
    },
    {
      "cell_type": "markdown",
      "source": [
        "Step 2: Train/Test Split"
      ],
      "metadata": {
        "id": "6T6BkjlU1M43"
      }
    },
    {
      "cell_type": "code",
      "source": [
        "from sklearn.model_selection import train_test_split\n",
        "X_train, X_test, y_train, y_test = train_test_split(breast_cancer.data, breast_cancer.target, test_size=0.25, random_state=11)\n",
        "\n",
        "print(\"Training set size:\", X_train.shape[0])\n",
        "print(\"Testing set size:\", X_test.shape[0])"
      ],
      "metadata": {
        "colab": {
          "base_uri": "https://localhost:8080/"
        },
        "id": "Cg4pgb5D3S8u",
        "outputId": "5ae5312c-0b75-4e08-8d22-1793df1d9a3e"
      },
      "execution_count": 13,
      "outputs": [
        {
          "output_type": "stream",
          "name": "stdout",
          "text": [
            "Training set size: 426\n",
            "Testing set size: 143\n"
          ]
        }
      ]
    },
    {
      "cell_type": "markdown",
      "source": [
        "Step 3: Training and Testing the Model (GaussianNB) then Evaluating"
      ],
      "metadata": {
        "id": "cEQWtufk1NP7"
      }
    },
    {
      "cell_type": "code",
      "source": [
        "#create and train the model\n",
        "from sklearn.naive_bayes import GaussianNB\n",
        "nb = GaussianNB()\n",
        "nb.fit(X_train, y_train)\n",
        "\n",
        "#make predictions\n",
        "y_pred = nb.predict(X_test)\n",
        "\n",
        "#estimator method score\n",
        "print(\"GaussianNB Accuracy:\", nb.score(X_test, y_test))"
      ],
      "metadata": {
        "colab": {
          "base_uri": "https://localhost:8080/"
        },
        "id": "e5_YdzXB3T4U",
        "outputId": "84d15a3a-4278-4d00-b7a7-78297894dea0"
      },
      "execution_count": 14,
      "outputs": [
        {
          "output_type": "stream",
          "name": "stdout",
          "text": [
            "GaussianNB Accuracy: 0.951048951048951\n"
          ]
        }
      ]
    },
    {
      "cell_type": "markdown",
      "source": [
        "Step 4: Confusion Matrix and Classification Report"
      ],
      "metadata": {
        "id": "rHNgSA7V1Ne5"
      }
    },
    {
      "cell_type": "code",
      "source": [
        "from sklearn.metrics import confusion_matrix, classification_report\n",
        "import seaborn as sns\n",
        "import matplotlib.pyplot as plt\n",
        "\n",
        "cm = confusion_matrix(y_test, y_pred)\n",
        "\n",
        "print(\"\\nConfusion Matrix:\\n\", cm)\n",
        "print(\"\\nClassification Report:\\n\", classification_report(y_test, y_pred))\n",
        "\n",
        "#visualizing confusion matrix\n",
        "plt.figure(figsize=(6,5))\n",
        "sns.heatmap(cm, annot=True, fmt='d', cmap='Blues', xticklabels=breast_cancer.target_names, yticklabels=breast_cancer.target_names)\n",
        "plt.xlabel('Predicted')\n",
        "plt.ylabel(\"Actual\")\n",
        "plt.title(\"Confusion Matrix - GaussianNB\")\n",
        "plt.show()"
      ],
      "metadata": {
        "colab": {
          "base_uri": "https://localhost:8080/",
          "height": 747
        },
        "id": "0RV1uhKw3VeR",
        "outputId": "c5f6864d-a93f-4413-bcce-b7ec54b8c8c1"
      },
      "execution_count": 15,
      "outputs": [
        {
          "output_type": "stream",
          "name": "stdout",
          "text": [
            "\n",
            "Confusion Matrix:\n",
            " [[44  6]\n",
            " [ 1 92]]\n",
            "\n",
            "Classification Report:\n",
            "               precision    recall  f1-score   support\n",
            "\n",
            "           0       0.98      0.88      0.93        50\n",
            "           1       0.94      0.99      0.96        93\n",
            "\n",
            "    accuracy                           0.95       143\n",
            "   macro avg       0.96      0.93      0.94       143\n",
            "weighted avg       0.95      0.95      0.95       143\n",
            "\n"
          ]
        },
        {
          "output_type": "display_data",
          "data": {
            "text/plain": [
              "<Figure size 600x500 with 2 Axes>"
            ],
            "image/png": "[encoded data removed]"
          },
          "metadata": {}
        }
      ]
    },
    {
      "cell_type": "markdown",
      "source": [
        "Step 5: K-Fold Cross Validation"
      ],
      "metadata": {
        "id": "AAltl5u-1Ntz"
      }
    },
    {
      "cell_type": "code",
      "source": [
        "from sklearn.model_selection import KFold, cross_val_score\n",
        "\n",
        "kf = KFold(n_splits=10, random_state=11, shuffle=True)\n",
        "scores = cross_val_score(estimator=nb, X=breast_cancer.data, y=breast_cancer.target, cv=kf)\n",
        "\n",
        "print(\"Cross-Validation Scores:\", scores)\n",
        "print(\"Mean Cross Validation Accuracy:\", scores.mean())"
      ],
      "metadata": {
        "colab": {
          "base_uri": "https://localhost:8080/"
        },
        "id": "rx-Xzy0b3V9r",
        "outputId": "61af3e9a-87ea-487a-e3c6-31ff84f994da"
      },
      "execution_count": 16,
      "outputs": [
        {
          "output_type": "stream",
          "name": "stdout",
          "text": [
            "Cross-Validation Scores: [0.96491228 0.9122807  0.94736842 0.89473684 0.96491228 0.94736842\n",
            " 0.96491228 0.89473684 0.96491228 0.92857143]\n",
            "Mean Cross Validation Accuracy: 0.9384711779448622\n"
          ]
        }
      ]
    },
    {
      "cell_type": "markdown",
      "source": [
        "Step 6: Multiple Model Comparison"
      ],
      "metadata": {
        "id": "2a8OtmQq1OIM"
      }
    },
    {
      "cell_type": "code",
      "source": [
        "#running multiple models\n",
        "from sklearn.neighbors import KNeighborsClassifier\n",
        "from sklearn.naive_bayes import GaussianNB\n",
        "from sklearn.linear_model import LogisticRegression\n",
        "from sklearn.svm import SVC\n",
        "from sklearn.model_selection import cross_val_score, KFold\n",
        "\n",
        "estimators = {\n",
        "    'GaussianNB': GaussianNB(),\n",
        "    'KNN': KNeighborsClassifier(),\n",
        "    'Logistic Regression': LogisticRegression(\n",
        "        solver='lbfgs', max_iter=10000),\n",
        "    'SVC': SVC(gamma='scale')\n",
        "}\n",
        "\n",
        "kfold = KFold(n_splits=10, random_state=11, shuffle=True)\n",
        "\n",
        "print(\"\\n---- Multiple Model Comparison ----\\n\")\n",
        "model_results = {}\n",
        "for name, model in estimators.items():\n",
        "  cv_scores = cross_val_score(estimator=model, X=breast_cancer.data, y=breast_cancer.target, cv=kfold)\n",
        "  model_results[name] = cv_scores.mean()\n",
        "\n",
        "for name, mean_accuracy in model_results.items():\n",
        "  print(f\"{name}: Mean Accuracy = {mean_accuracy:.4f}\")"
      ],
      "metadata": {
        "colab": {
          "base_uri": "https://localhost:8080/"
        },
        "id": "OfvSLZ343Wd6",
        "outputId": "ba894c75-e377-4759-8d48-3af711d07d68"
      },
      "execution_count": 18,
      "outputs": [
        {
          "output_type": "stream",
          "name": "stdout",
          "text": [
            "\n",
            "---- Multiple Model Comparison ----\n",
            "\n",
            "GaussianNB: Mean Accuracy = 0.9385\n",
            "KNN: Mean Accuracy = 0.9279\n",
            "Logistic Regression: Mean Accuracy = 0.9508\n",
            "SVC: Mean Accuracy = 0.9192\n"
          ]
        }
      ]
    }
  ]
}